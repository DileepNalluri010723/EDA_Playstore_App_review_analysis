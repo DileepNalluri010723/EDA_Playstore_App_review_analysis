{
  "nbformat": 4,
  "nbformat_minor": 0,
  "metadata": {
    "colab": {
      "private_outputs": true,
      "provenance": [],
      "collapsed_sections": [
        "vncDsAP0Gaoa",
        "beRrZCGUAJYm",
        "PBTbrJXOngz2",
        "K5QZ13OEpz2H",
        "lQ7QKXXCp7Bj",
        "xJivPyE8q_2k",
        "azX1PEddq_20",
        "iyKleWeyq_20",
        "8-UX51ofq_21",
        "Of3PJYNbrGff",
        "w8bcvZxarGfg",
        "HZ6txCBBrGfh",
        "jbkhcZqdrGfh",
        "riLp7y9brHca",
        "Uw0GT_uHrHcb",
        "qTEiGUKorHcc",
        "1Qw8mtL3rHcd",
        "xnMZvg2orIPt",
        "mwHQVoIQrIPu",
        "Kwy5hImkrIPu",
        "0sjxqkK0rIPv",
        "y7avNpR9HL5z",
        "Z5yPuW4iHL50",
        "3vIdo55JHL50",
        "IlhlbgNBHL51",
        "oQ-pHCWMHO92",
        "DEMFeE18HO92",
        "MR3eS7xTHO93",
        "JmI1Y4YbHO93",
        "XGShqbS2HSAY",
        "B4XxyvTzHSAZ",
        "Mal1wQlpHSAZ",
        "BgP_e3WlHSAZ",
        "I3aNiIh9fKqZ",
        "hTF1e9PwfKqa",
        "1xrBLU6IfKqa",
        "yiLHMWFSfKqb",
        "UV0SzAkaZNRQ",
        "YPEH6qLeZNRQ",
        "q29F0dvdveiT",
        "EXh0U9oCveiU",
        "22aHeOlLveiV",
        "JcMwzZxoAimU",
        "8G2x9gOozGDZ",
        "gCX9965dhzqZ",
        "gIfDvo9L0UH2"
      ],
      "include_colab_link": true
    },
    "kernelspec": {
      "name": "python3",
      "display_name": "Python 3"
    },
    "language_info": {
      "name": "python"
    }
  },
  "cells": [
    {
      "cell_type": "markdown",
      "metadata": {
        "id": "view-in-github",
        "colab_type": "text"
      },
      "source": [
        "<a href=\"https://colab.research.google.com/github/DileepNalluri010723/EDA_Playstore_App_review_analysis/blob/main/EDA_Playstore_App_Review_Analysis.ipynb\" target=\"_parent\"><img src=\"https://colab.research.google.com/assets/colab-badge.svg\" alt=\"Open In Colab\"/></a>"
      ]
    },
    {
      "cell_type": "markdown",
      "source": [
        "# **Project Name**    -  **EDA Playstore App Review Analysis**\n",
        "\n"
      ],
      "metadata": {
        "id": "vncDsAP0Gaoa"
      }
    },
    {
      "cell_type": "markdown",
      "source": [
        "##### **Project Type**    - EDA\n",
        "##### **Contribution**    - Individual\n"
      ],
      "metadata": {
        "id": "beRrZCGUAJYm"
      }
    },
    {
      "cell_type": "markdown",
      "source": [
        "# **Problem Statement**\n"
      ],
      "metadata": {
        "id": "yQaldy8SH6Dl"
      }
    },
    {
      "cell_type": "markdown",
      "source": [
        "**BUSINESS PROBLEM OVERVIEW**\n",
        "\n",
        "\n",
        "The Play Store apps data offers tremendous potential for developers to drive business success by gaining actionable insights. This dataset includes various metrics for each app, such as category, rating, and size, which allows for a comprehensive analysis of factors contributing to app engagement and success. Additionally, another dataset comprising customer reviews provides invaluable feedback directly from users. By exploring and analyzing this data, developers can identify trends and patterns, understand user preferences, and address common pain points. This insight enables developers to refine their apps, enhance user experience, and tailor their offerings to better meet user needs. Overall, leveraging the Play Store apps data empowers developers to make informed decisions, innovate on existing features, and strategically position their apps in the competitive Android market, ultimately achieving higher engagement and user satisfaction."
      ],
      "metadata": {
        "id": "DpeJGUA3kjGy"
      }
    },
    {
      "cell_type": "markdown",
      "source": [
        "#### **Define Your Business Objective?**"
      ],
      "metadata": {
        "id": "PH-0ReGfmX4f"
      }
    },
    {
      "cell_type": "markdown",
      "source": [
        "***Key Factors for App engagement and success***"
      ],
      "metadata": {
        "id": "PhDvGCAqmjP1"
      }
    },
    {
      "cell_type": "markdown",
      "source": [
        "# ***Let's Begin !***"
      ],
      "metadata": {
        "id": "O_i_v8NEhb9l"
      }
    },
    {
      "cell_type": "markdown",
      "source": [
        "## ***1. Know Your Data***"
      ],
      "metadata": {
        "id": "HhfV-JJviCcP"
      }
    },
    {
      "cell_type": "markdown",
      "source": [
        "### Import Libraries"
      ],
      "metadata": {
        "id": "Y3lxredqlCYt"
      }
    },
    {
      "cell_type": "code",
      "source": [
        "# Import Libraries\n",
        "import numpy as np\n",
        "import pandas as pd\n",
        "import seaborn as sns\n",
        "import matplotlib.pyplot as plt\n",
        "import plotly.express as px\n",
        "%matplotlib inline\n",
        "# from google.colab import drive\n",
        "# drive.mount('/content/drive')"
      ],
      "metadata": {
        "id": "M8Vqi-pPk-HR"
      },
      "execution_count": null,
      "outputs": []
    },
    {
      "cell_type": "code",
      "source": [
        "###Setting the default view options in output screen for better visibility\n",
        "pd.set_option('display.max_columns', None) # None --> All Columns\n",
        "pd.set_option('display.max_rows', 1000)"
      ],
      "metadata": {
        "id": "_SWwMiWtMZ9O"
      },
      "execution_count": null,
      "outputs": []
    },
    {
      "cell_type": "code",
      "source": [
        "##Cloning the dataset from github\n",
        "!git clone https://github.com/DileepNalluri010723/EDA_Playstore_App_review_analysis"
      ],
      "metadata": {
        "id": "4nBQXpY7Md2c"
      },
      "execution_count": null,
      "outputs": []
    },
    {
      "cell_type": "markdown",
      "source": [
        "### Dataset Loading"
      ],
      "metadata": {
        "id": "3RnN4peoiCZX"
      }
    },
    {
      "cell_type": "code",
      "source": [
        "# Load Dataset\n",
        "##Try and expect blocks are being used to handle any exceptions\n",
        "def load_dataset(datasetName):\n",
        "    '''\n",
        "    This function fetches data from google drive and returns the result.\n",
        "    '''\n",
        "    try:\n",
        "      if datasetName == \"Play Store\":\n",
        "              filepath = \"/content/EDA_Playstore_App_review_analysis/Play Store Data.csv\"\n",
        "      else:\n",
        "            filepath = \"/content/EDA_Playstore_App_review_analysis/User Reviews.csv\"\n",
        "      df = pd.read_csv(filepath)\n",
        "      return df\n",
        "    except Exception as e:\n",
        "        print(e)"
      ],
      "metadata": {
        "id": "4CkvbW_SlZ_R"
      },
      "execution_count": null,
      "outputs": []
    },
    {
      "cell_type": "code",
      "source": [
        "# Dataset First Look\n",
        "playstore_data = load_dataset('Play Store')\n",
        "review_data = load_dataset('Reviews')"
      ],
      "metadata": {
        "id": "CEhiayUv1809"
      },
      "execution_count": null,
      "outputs": []
    },
    {
      "cell_type": "markdown",
      "source": [
        "### Dataset First View"
      ],
      "metadata": {
        "id": "x71ZqKXriCWQ"
      }
    },
    {
      "cell_type": "code",
      "source": [
        "playstore_data.head()"
      ],
      "metadata": {
        "collapsed": true,
        "id": "goik_CBiNPdY"
      },
      "execution_count": null,
      "outputs": []
    },
    {
      "cell_type": "code",
      "source": [
        "review_data.head()"
      ],
      "metadata": {
        "collapsed": true,
        "id": "o7c0syyyNQe_"
      },
      "execution_count": null,
      "outputs": []
    },
    {
      "cell_type": "markdown",
      "source": [
        "### Dataset Rows & Columns count"
      ],
      "metadata": {
        "id": "7hBIi_osiCS2"
      }
    },
    {
      "cell_type": "code",
      "source": [
        "# Dataset Rows & Columns\n",
        "playstore_data.shape"
      ],
      "metadata": {
        "id": "Kllu7SJgmLij"
      },
      "execution_count": null,
      "outputs": []
    },
    {
      "cell_type": "code",
      "source": [
        "playstore_data.columns"
      ],
      "metadata": {
        "id": "1yI62ziEXqlx"
      },
      "execution_count": null,
      "outputs": []
    },
    {
      "cell_type": "code",
      "source": [
        "review_data.shape"
      ],
      "metadata": {
        "collapsed": true,
        "id": "do2I-bPrWlf7"
      },
      "execution_count": null,
      "outputs": []
    },
    {
      "cell_type": "markdown",
      "source": [
        "### Dataset Information"
      ],
      "metadata": {
        "id": "JlHwYmJAmNHm"
      }
    },
    {
      "cell_type": "code",
      "source": [
        "# Dataset Info\n",
        "review_data.info()"
      ],
      "metadata": {
        "id": "e9hRXRi6meOf",
        "collapsed": true
      },
      "execution_count": null,
      "outputs": []
    },
    {
      "cell_type": "code",
      "source": [
        "playstore_data.info()"
      ],
      "metadata": {
        "collapsed": true,
        "id": "yTRzGTuxWxhs"
      },
      "execution_count": null,
      "outputs": []
    },
    {
      "cell_type": "markdown",
      "source": [
        "#### Duplicate Values"
      ],
      "metadata": {
        "id": "35m5QtbWiB9F"
      }
    },
    {
      "cell_type": "code",
      "source": [
        "# Dataset Duplicate Value Count\n",
        "# len(playstore_data[playstore_data.duplicated()])\n",
        "playstore_data['App'].value_counts()\n",
        "dup = playstore_data[playstore_data['App'] =='ROBLOX']\n",
        "dup"
      ],
      "metadata": {
        "id": "1sLdpKYkmox0",
        "collapsed": true
      },
      "execution_count": null,
      "outputs": []
    },
    {
      "cell_type": "code",
      "source": [
        "####Since some applications are duplicated we are storing the first occurence of the application\n",
        "final_playstore_data = playstore_data.drop_duplicates(subset='App',keep='first')\n",
        "final_playstore_data['App'].value_counts()"
      ],
      "metadata": {
        "collapsed": true,
        "id": "_K5Mn9ASYo2F"
      },
      "execution_count": null,
      "outputs": []
    },
    {
      "cell_type": "code",
      "source": [
        "###We are following the same\n",
        "final_playstore_data = playstore_data.drop_duplicates(subset='App',keep='first')\n",
        "final_playstore_data['App']"
      ],
      "metadata": {
        "collapsed": true,
        "id": "2BaAYJY9ZRFT"
      },
      "execution_count": null,
      "outputs": []
    },
    {
      "cell_type": "markdown",
      "source": [
        "#### Missing Values/Null Values"
      ],
      "metadata": {
        "id": "PoPl-ycgm1ru"
      }
    },
    {
      "cell_type": "code",
      "source": [
        "# Missing Values/Null Values Count\n",
        "print(final_playstore_data.isnull().sum())"
      ],
      "metadata": {
        "id": "GgHWkxvamxVg"
      },
      "execution_count": null,
      "outputs": []
    },
    {
      "cell_type": "code",
      "source": [
        "# Visualizing the missing values\n",
        "# Checking Null Value by plotting Heatmap\n",
        "sns.heatmap(final_playstore_data.isnull(), cbar=False)"
      ],
      "metadata": {
        "id": "3q5wnI3om9sJ"
      },
      "execution_count": null,
      "outputs": []
    },
    {
      "cell_type": "code",
      "source": [
        "###Since rating is a primary factor in this analysis, we are removing the rows which are having NaN values\n",
        "final_playstore_data = final_playstore_data.dropna(axis = 0)\n",
        "final_playstore_data.isnull().sum()"
      ],
      "metadata": {
        "collapsed": true,
        "id": "bQjUsRMIbLiP"
      },
      "execution_count": null,
      "outputs": []
    },
    {
      "cell_type": "markdown",
      "source": [
        "### What did you know about your dataset?"
      ],
      "metadata": {
        "id": "H0kj-8xxnORC"
      }
    },
    {
      "cell_type": "code",
      "source": [
        "review_data.info()"
      ],
      "metadata": {
        "id": "ZRmj9w0HcJP4",
        "collapsed": true
      },
      "execution_count": null,
      "outputs": []
    },
    {
      "cell_type": "code",
      "source": [
        "final_playstore_data.info()\n"
      ],
      "metadata": {
        "id": "uI7BtjWjlqon"
      },
      "execution_count": null,
      "outputs": []
    },
    {
      "cell_type": "markdown",
      "source": [
        "The provided dataset from the Google Play Store is intended for analyzing key factors contributing to app engagement and success, and deriving actionable insights from this analysis.\n",
        "\n",
        "Several variables might influence app engagement, including rating, size, and whether the app is paid. By examining both the app data and user reviews, we aim to identify these influential factors and provide practical insights.\n",
        "\n",
        "The Play Store dataset initially contains 10,841 rows and 13 columns. However, after addressing missing and duplicate values, the cleaned dataset consists of 8,190 rows and 13 columns.\n",
        "\n",
        "Regarding the review dataset, it includes 37,427 rows and 5 columns, with no missing or duplicate data."
      ],
      "metadata": {
        "id": "gfoNAAC-nUe_"
      }
    },
    {
      "cell_type": "markdown",
      "source": [
        "## ***2. Understanding Your Variables***"
      ],
      "metadata": {
        "id": "nA9Y7ga8ng1Z"
      }
    },
    {
      "cell_type": "code",
      "source": [
        "# Dataset Columns\n",
        "final_playstore_data.columns"
      ],
      "metadata": {
        "id": "n87BaXA_42-R"
      },
      "execution_count": null,
      "outputs": []
    },
    {
      "cell_type": "code",
      "source": [
        "# Dataset Describe\n",
        "final_playstore_data.describe(include='all')"
      ],
      "metadata": {
        "id": "DnOaZdaE5Q5t",
        "collapsed": true
      },
      "execution_count": null,
      "outputs": []
    },
    {
      "cell_type": "markdown",
      "source": [
        "### Variables Description"
      ],
      "metadata": {
        "id": "PBTbrJXOngz2"
      }
    },
    {
      "cell_type": "markdown",
      "source": [
        "**Playstore data variables**:\n",
        "\n",
        "* **App                :**The name of the mobile application\n",
        "\n",
        "* **Category      :**The primary category to which the app belongs (e.g., Games, Productivity, Education).\n",
        "\n",
        "\n",
        "* **Rating          :**The overall user rating of the app, represented as a numeric value (e.g., 4.5).\n",
        "\n",
        "\n",
        "* **Reviews            :**The total number of user reviews for the app, as recorded when the data was scraped.\n",
        "\n",
        "\n",
        "* **Size           :**The size of the app file (e.g., 15MB, 50MB), as recorded when the data was scraped.\n",
        "\n",
        "* **Installs        :**The total number of times the app has been downloaded/installed by users, as recorded when the data was scraped.\n",
        "\n",
        "* **Type             :**The cost of the app if it is paid, represented as a numeric value (e.g., $2.99). If the app is free, the price will be 0.\n",
        "\n",
        "\n",
        "* **Price**         :The cost of the app if it is paid, represented as a numeric value (e.g., $2.99). If the app is free, the price will be 0.\n",
        "\n",
        "\n",
        "* **Content Rating**         :The age group the app is targeted at (e.g., Everyone, Teen, Mature 21+, Adult).\n",
        "\n",
        "\n",
        "* **Genres**          :Additional categories or genres the app belongs to, apart from its main category (e.g., Musical, Family, Game).\n",
        "\n",
        "**Review Data variables**:\n",
        "\n",
        "* **App**          :The name of the mobile application being reviewed\n",
        "\n",
        "* **Translated_Review**         :The user review of the app, which has been preprocessed (e.g., cleaned, tokenized) and translated into English.\n",
        "\n",
        "* **Sentiment**         :The sentiment of the user review, categorized as Positive, Negative, or Neutral, based on text analysis.\n",
        "\n",
        "* **Sentiment Polarity**        :\n",
        "A numeric score representing the sentiment polarity of the review, ranging from-1 (most negative) to 1 (most positive).\n",
        "\n",
        "* **Sentiment_Subjectivity**      :A numeric score indicating the subjectivity of the review, ranging from 0 (objective) to 1 (subjective), showing how subjective or opinion-based the review is.\n"
      ],
      "metadata": {
        "id": "aJV4KIxSnxay"
      }
    },
    {
      "cell_type": "markdown",
      "source": [
        "### Check Unique Values for each variable."
      ],
      "metadata": {
        "id": "u3PMJOP6ngxN"
      }
    },
    {
      "cell_type": "code",
      "source": [
        "# Check Unique Values for each variable.\n",
        "for i in final_playstore_data.columns.tolist():\n",
        "  print(\"No. of unique values in \",i,\"is\",final_playstore_data[i].nunique(),\".\")"
      ],
      "metadata": {
        "id": "zms12Yq5n-jE",
        "collapsed": true
      },
      "execution_count": null,
      "outputs": []
    },
    {
      "cell_type": "markdown",
      "source": [
        "## 3. ***Data Wrangling***"
      ],
      "metadata": {
        "id": "dauF4eBmngu3"
      }
    },
    {
      "cell_type": "markdown",
      "source": [
        "### Data Wrangling Code"
      ],
      "metadata": {
        "id": "bKJF3rekwFvQ"
      }
    },
    {
      "cell_type": "code",
      "source": [
        "# Function to determine the dominant sentiment\n",
        "def dominant_sentiment(row):\n",
        "  sentiment_counts = row.value_counts()\n",
        "  return sentiment_counts.idxmax()"
      ],
      "metadata": {
        "collapsed": true,
        "id": "cbL1p2-PNYfP"
      },
      "execution_count": null,
      "outputs": []
    },
    {
      "cell_type": "code",
      "source": [
        "##Dropping the NaN values from the review data\n",
        "review_data.dropna(inplace= True)\n",
        "##We are aggregating the reviews by using the mean value from all the reviews given for a single application\n",
        "review_data_agg = review_data.groupby('App').agg({'Sentiment_Polarity':'mean','Sentiment_Subjectivity':'mean'}).reset_index()\n"
      ],
      "metadata": {
        "id": "wk-9a2fpoLcV",
        "collapsed": true
      },
      "execution_count": null,
      "outputs": []
    },
    {
      "cell_type": "code",
      "source": [
        "#Using the dominant sentiment approach, we are aggregrating the sentiment\n",
        "review_data_agg_sentiment = review_data.groupby('App')['Sentiment'].apply(dominant_sentiment)"
      ],
      "metadata": {
        "id": "xRtgClUErDLg"
      },
      "execution_count": null,
      "outputs": []
    },
    {
      "cell_type": "code",
      "source": [
        "#Merging the review data so that we have only one unique row for each application\n",
        "final_review_data = review_data_agg.merge(review_data_agg_sentiment,on='App',how='left')\n",
        "final_review_data.info()"
      ],
      "metadata": {
        "collapsed": true,
        "id": "F64N7C7ErSO-"
      },
      "execution_count": null,
      "outputs": []
    },
    {
      "cell_type": "code",
      "source": [
        "#Merging the playstore data and review data to analyse the application engagement based on user reviews.\n",
        "playstore_review_merged_data = final_playstore_data.merge(final_review_data, on='App',how='left')\n",
        "playstore_review_merged_data.dropna(axis = 0, inplace= True)\n",
        "playstore_review_merged_data.info()"
      ],
      "metadata": {
        "id": "PaPWuHPHbnEw",
        "collapsed": true
      },
      "execution_count": null,
      "outputs": []
    },
    {
      "cell_type": "code",
      "source": [
        "playstore_review_merged_data.head()"
      ],
      "metadata": {
        "collapsed": true,
        "id": "qNNdhcLXtMRE"
      },
      "execution_count": null,
      "outputs": []
    },
    {
      "cell_type": "code",
      "source": [
        "###Clean the installs by removing the commas and returning the value in string format\n",
        "def clean_installs(row):\n",
        "  try:\n",
        "    return int(row.replace(',', '').replace('+', ''))\n",
        "  except:\n",
        "    return row\n",
        "\n",
        "final_playstore_data['Installs'] = final_playstore_data['Installs'].apply(clean_installs)\n",
        "final_playstore_data['Installs']"
      ],
      "metadata": {
        "collapsed": true,
        "id": "RJEWzE0lB0OV"
      },
      "execution_count": null,
      "outputs": []
    },
    {
      "cell_type": "code",
      "source": [
        "###We are here calculating the total sum of installs of each category for Category vs Total Installs analysis\n",
        "category_installs_df = final_playstore_data.groupby(['Category','Type'])['Installs'].sum().reset_index()\n",
        "\n",
        "category_installs_df.head()"
      ],
      "metadata": {
        "id": "zgZzH9YlAINJ"
      },
      "execution_count": null,
      "outputs": []
    },
    {
      "cell_type": "markdown",
      "source": [
        "### What all manipulations have you done and insights you found?"
      ],
      "metadata": {
        "id": "MSa1f5Uengrz"
      }
    },
    {
      "cell_type": "markdown",
      "source": [
        "**User Review Data Manipulations**:\n",
        "We aggregated user reviews by calculating the mean values of sentiment subjectivity and sentiment polarities. Additionally, we determined the dominant sentiment for each app based on all reviews and assigned this as the overall sentiment in the sentiment column. By merging both dataframes, we created a final review dataframe that includes mean values and dominant sentiment, resulting in 865 unique rows and 5 columns.\n",
        "\n",
        "**Insights**:\n",
        "Upon merging the user review data with the Play Store data, we obtained 816 unique rows and 5 columns. This indicates that we have comprehensive data for 816 applications that include both Play Store metrics and user reviews. Consequently, our primary analysis will focus on the Play Store data, considering the factors available in the dataset since there is insufficient user review data for a complete analysis. However, we will still consider user reviews to analyze application engagement and provide actionable insights to improve app performance."
      ],
      "metadata": {
        "id": "l7Sf9RblRrPD"
      }
    },
    {
      "cell_type": "markdown",
      "source": [
        "## ***4. Data Vizualization, Storytelling & Experimenting with charts : Understand the relationships between variables***"
      ],
      "metadata": {
        "id": "GF8Ens_Soomf"
      }
    },
    {
      "cell_type": "markdown",
      "source": [
        "#### Chart - 1 - Distribution of App ratings (Univariate - Numerical)"
      ],
      "metadata": {
        "id": "xJivPyE8q_2k"
      }
    },
    {
      "cell_type": "code",
      "source": [
        "# Chart - 2 visualization code\n",
        "# Showing Distribution of App ratings\n",
        "final_playstore_data['Rating']"
      ],
      "metadata": {
        "id": "NTkxmIkWq_20",
        "collapsed": true
      },
      "execution_count": null,
      "outputs": []
    },
    {
      "cell_type": "code",
      "source": [
        "fig_subscribers_histogram = px.histogram(\n",
        "    final_playstore_data, x='Rating', nbins=25,\n",
        "    title=\"Distribution of Application ratings\",\n",
        "    color_discrete_sequence=['lightgreen']\n",
        ")\n",
        "\n",
        "# Customize size and font\n",
        "fig_subscribers_histogram.update_layout( height=600,  # Set the height of the figure\n",
        "    width=900,  # Set the width of the figure\n",
        "    yaxis_title = \"Count of Applications\",\n",
        "    title_font=dict(size=20, color='darkblue'),  # Title font settings\n",
        "    font=dict(size=14,color='darkblue'),  # General font size for axes and labels\n",
        "    bargap=0.01  # Gap between bars\n",
        ")\n",
        "fig_subscribers_histogram.show()\n"
      ],
      "metadata": {
        "id": "QAgGhW9H2CLP"
      },
      "execution_count": null,
      "outputs": []
    },
    {
      "cell_type": "markdown",
      "source": [
        "##### 1. Why did you pick the specific chart?"
      ],
      "metadata": {
        "id": "azX1PEddq_20"
      }
    },
    {
      "cell_type": "markdown",
      "source": [
        "Histogram helps us to find out the distribution of a numerical variable in the form of bins. To analyse the distribution of app rating, Histogram is the perfect chart. So I have picked Histogram for this analysis."
      ],
      "metadata": {
        "id": "QTXVnJ-fq_20"
      }
    },
    {
      "cell_type": "markdown",
      "source": [
        "##### 2. What is/are the insight(s) found from the chart?"
      ],
      "metadata": {
        "id": "iyKleWeyq_20"
      }
    },
    {
      "cell_type": "markdown",
      "source": [
        "This chart shows the Distribution of Application ratings.\n",
        "\n",
        "Majority of the applications i.e more than 60 percent of the applications have good application rating 4.0+ which is an encouraging insight from the chart.\n",
        "\n",
        "But more than 30 percent are below 4 rating and 20 percent are below 3.5 rating which would be actionable item here.\n",
        "\n",
        "We can also observe that 10 percent of that application are below 2 rating."
      ],
      "metadata": {
        "id": "DwesNe8zq_21"
      }
    },
    {
      "cell_type": "markdown",
      "source": [
        "##### 3. Will the gained insights help creating a positive business impact?\n",
        "Are there any insights that lead to negative growth? Justify with specific reason."
      ],
      "metadata": {
        "id": "8-UX51ofq_21"
      }
    },
    {
      "cell_type": "markdown",
      "source": [
        "The visualization indicates that the majority of applications are achieving quality engagement and user satisfaction. However, there is room for improvement for those with lower ratings. Developers should focus on these lower-rated applications, utilizing user reviews to identify and address issues. By doing so, they can enhance user engagement and improve the overall quality of their apps."
      ],
      "metadata": {
        "id": "nW7-bqD0q_21"
      }
    },
    {
      "cell_type": "markdown",
      "source": [
        "#### Chart - 2 - Bar chart -- Category vs Installs (Categorical and Numerical -Bivariate)"
      ],
      "metadata": {
        "id": "0wOQAZs5pc--"
      }
    },
    {
      "cell_type": "code",
      "source": [
        "# Chart - 1 visualization code\n",
        "fig_category_count = px.bar(\n",
        "    category_installs_df,\n",
        "    y='Installs', x='Category',\n",
        "    title=\"Bar Plot: Count of Installs per Category \",\n",
        ")\n",
        "\n",
        "fig_category_count .update_layout( height=600,  # Set the height of the figure\n",
        "    width=900,  # Set the width of the figure\n",
        "    title_font=dict(size=20, color='darkblue'),  # Title font settings\n",
        "    font=dict(size=14,color='darkblue'),  # General font size for axes and labels\n",
        "    bargap=0.2,  # Gap between bars\n",
        "    xaxis=dict( tickangle=-45),# Set the angle of the x ticks\n",
        "    yaxis_title='Total Number of Installs',\n",
        ")\n",
        "# Apply rainbow colors\n",
        "\n",
        "fig_category_count.show()"
      ],
      "metadata": {
        "id": "7v_ESjsspbW7"
      },
      "execution_count": null,
      "outputs": []
    },
    {
      "cell_type": "markdown",
      "source": [
        "##### 1. Why did you pick the specific chart?"
      ],
      "metadata": {
        "id": "K5QZ13OEpz2H"
      }
    },
    {
      "cell_type": "markdown",
      "source": [
        "A bar chart is an excellent choice for visualizing the total number of installs per category. Since we are conducting bivariate analysis involving both categorical and numerical values, the bar chart effectively illustrates these relationships. This is why I have chosen this chart type for our analysis, as it provides clear and concise insights into the distribution of installs across different app categories."
      ],
      "metadata": {
        "id": "XESiWehPqBRc"
      }
    },
    {
      "cell_type": "markdown",
      "source": [
        "##### 2. What is/are the insight(s) found from the chart?"
      ],
      "metadata": {
        "id": "lQ7QKXXCp7Bj"
      }
    },
    {
      "cell_type": "markdown",
      "source": [
        "From the above chart I got to know that,\n",
        "1. Game, Communication and Tools are the most installed categories and most demanded categories\n",
        "2. Education,Beauty, Finance are the less installed category, we can consider these as under served niche categories, offering opportunities for new apps to enter and fill a gap.\n",
        "3. Apart from Tools, Photography and Productivity are having a better installs, we can consider this change towards these categories and build some effective applications for much more user engagment.\n"
      ],
      "metadata": {
        "id": "C_j1G7yiqdRP"
      }
    },
    {
      "cell_type": "markdown",
      "source": [
        "##### 3. Will the gained insights help creating a positive business impact?\n",
        "Are there any insights that lead to negative growth? Justify with specific reason."
      ],
      "metadata": {
        "id": "448CDAPjqfQr"
      }
    },
    {
      "cell_type": "markdown",
      "source": [
        "From the above analysis, businesses can take the following actions to drive success:\n",
        "\n",
        "1. **Resource Allocation**: By focusing on categories with higher engagement, such as Games, Communication, and Tools, businesses can allocate their resources more effectively and tap into areas with proven user interest and potential for growth.\n",
        "\n",
        "2. **Exploring Niche Opportunities**: In a proactive approach, businesses can target categories with fewer installs, like Finance and Education. By developing engaging and high-quality applications in these under-served areas, businesses can attract users looking for niche content that is currently lacking focus.\n",
        "\n",
        "3.  **Partnerships and Collaborations**: Collaborating with educational institutions, financial experts, or other relevant entities can enhance the credibility and functionality of apps in under-served categories like Finance and Education.\n",
        "These strategies can help businesses optimize their efforts, drive user engagement, and seize opportunities in both highly popular and less explored app categories."
      ],
      "metadata": {
        "id": "3cspy4FjqxJW"
      }
    },
    {
      "cell_type": "markdown",
      "source": [
        "#### Chart - 3 - Category wise rating (Bivariate)\n"
      ],
      "metadata": {
        "id": "Of3PJYNbrGff"
      }
    },
    {
      "cell_type": "code",
      "source": [
        "df = final_playstore_data[(final_playstore_data['Category']=='FINANCE')& (final_playstore_data['Rating'] < 3.9)]\n",
        "df.head()"
      ],
      "metadata": {
        "id": "4CEk6JA5Vrbc"
      },
      "execution_count": null,
      "outputs": []
    },
    {
      "cell_type": "code",
      "source": [
        "fig_engagement_country = px.box(\n",
        "    final_playstore_data, x='Category', y='Rating',\n",
        "    title=\"Box Plot - Rating by Category\",\n",
        "    color ='Type'\n",
        ")\n",
        "fig_engagement_country.update_xaxes(title_text = 'Category')\n",
        "fig_engagement_country.update_yaxes(title_text = 'Rating')\n",
        "\n",
        "fig_engagement_country.show()\n"
      ],
      "metadata": {
        "id": "qWsbjPvz4lXx"
      },
      "execution_count": null,
      "outputs": []
    },
    {
      "cell_type": "code",
      "source": [
        "# Marking outliers using Inter Quartile Range\n",
        "# Outlier Treatment Inter Quartile Range\n",
        "\n",
        "# Calculate Q1 (25th percentile) and Q3 (75th percentile)\n",
        "def outlier_marking(data, column_name):\n",
        "  Q1 = data[column_name].quantile(0.25) # Calculate the percentile\n",
        "  Q3 = data[column_name].quantile(0.75)\n",
        "  IQR = Q3 - Q1\n",
        "\n",
        "  # Determine the bounds for outliers\n",
        "  lower_bound = Q1 - 1.5 * IQR\n",
        "  upper_bound = Q3 + 1.5 * IQR\n",
        "\n",
        "  # Flag outliers\n",
        "  return data[column_name].apply(\n",
        "      lambda x: 'Outlier' if x < lower_bound or x > upper_bound else 'Not Outlier'\n",
        "  )\n"
      ],
      "metadata": {
        "id": "yAwxZ3sO6DRC"
      },
      "execution_count": null,
      "outputs": []
    },
    {
      "cell_type": "code",
      "source": [
        "###Marking the outliers to the main playstore data\n",
        "final_playstore_data['Outlier Marking'] = outlier_marking(final_playstore_data,'Rating')\n",
        "final_playstore_data.head()"
      ],
      "metadata": {
        "id": "WSGur_rgX4ga",
        "collapsed": true
      },
      "execution_count": null,
      "outputs": []
    },
    {
      "cell_type": "markdown",
      "source": [
        "##### 1. Why did you pick the specific chart?"
      ],
      "metadata": {
        "id": "w8bcvZxarGfg"
      }
    },
    {
      "cell_type": "markdown",
      "source": [
        "Box plots are used to show distributions of numeric data values, especially when you want to compare them between multiple groups. They are built to provide high-level information at a glance, offering general information about a group of data's symmetry, skew, variance, and outliers. So, I used box plot to get the maximum and minimum value with well sagreggated outliers with well defined mean and median as shown in the box plot graph."
      ],
      "metadata": {
        "id": "9-GBsMEqrGfg"
      }
    },
    {
      "cell_type": "markdown",
      "source": [
        "##### 2. What is/are the insight(s) found from the chart?"
      ],
      "metadata": {
        "id": "HZ6txCBBrGfh"
      }
    },
    {
      "cell_type": "markdown",
      "source": [
        "This chart shows the Rating of the Applications by Category\n",
        "\n",
        "We can observe that Art and Design, Events and Parenting have the best rating across all the categories.\n",
        "\n",
        "We have multiple outliers with lower rating than expected for categories like Finance, Family, Tools etc. Even though the median ratings are good, these outliers are something we must look at.\n",
        "\n",
        "Entertainment category has the lowest rating when compared to other categories followed by Maps and Navigation.\n",
        "\n",
        "We can also observe that Lifestyle and Dating has the lowest fences when compared to other categories.\n",
        "\n",
        "When viewed with Type of the application whether it is free or paid, we could a new insight, we have less outliers, we could also observe that Parenting category has some apps which are having lowest rating."
      ],
      "metadata": {
        "id": "9X7Ff9HFrGfh"
      }
    },
    {
      "cell_type": "markdown",
      "source": [
        "##### 3. Will the gained insights help creating a positive business impact?\n",
        "Are there any insights that lead to negative growth? Justify with specific reason."
      ],
      "metadata": {
        "id": "jbkhcZqdrGfh"
      }
    },
    {
      "cell_type": "markdown",
      "source": [
        "Even though the median ratings are encouraging as most of them have a median rating of minimum 4.2, but many categories need immediate attention like Finance, Family etc as they consists applications which have low ratings. Developers needs to look into reviews and resolve the issue as soon as possible to mitigate the negative impact from the users, otherwise leading to negative growth in such categories\n",
        "\n",
        "On the other hand some category like Art and Designs, Beauty etc which have good median rating have very less number of applications, Business team can focus on such categories and fill the gap by introducing user engaging applications.\n",
        "\n",
        "When it comes to paid apps, Business team must focus on Parenting category applications as they are having very low rating which would impact the business in a negative manner. Also need to have a keen look other categories like Maps and Navigation, dating etc for which we have less rating applications."
      ],
      "metadata": {
        "id": "sZjMyjAHrGfh"
      }
    },
    {
      "cell_type": "markdown",
      "source": [
        "#### Chart - 4 - Type vs Installs (Pie chart)"
      ],
      "metadata": {
        "id": "riLp7y9brHca"
      }
    },
    {
      "cell_type": "code",
      "source": [
        "# Chart - 4 visualization code\n",
        "type_installs_df = final_playstore_data.groupby('Type')['Installs'].sum().reset_index()\n",
        "type_installs_df.head()"
      ],
      "metadata": {
        "id": "QQ-DWHW5rHca"
      },
      "execution_count": null,
      "outputs": []
    },
    {
      "cell_type": "code",
      "source": [
        "#Type vs Installs visualization code\n",
        "fig_category_count = px.bar(\n",
        "    type_installs_df,\n",
        "    y='Installs', x='Type',\n",
        "    title=\"Bar Plot: Count of Installs per Type \",\n",
        ")\n",
        "\n",
        "fig_category_count .update_layout( height=600,  # Set the height of the figure\n",
        "    width=600,  # Set the width of the figure\n",
        "    title_font=dict(size=20, color='darkblue'),  # Title font settings\n",
        "    font=dict(size=14,color='darkblue'),  # General font size for axes and labels\n",
        "    bargap=0.2,  # Gap between bars\n",
        "    yaxis_title='Total Number of Installs',\n",
        ")\n",
        "# Apply rainbow colors\n",
        "\n",
        "fig_category_count.show()"
      ],
      "metadata": {
        "id": "PjRN5JWJISsw"
      },
      "execution_count": null,
      "outputs": []
    },
    {
      "cell_type": "markdown",
      "source": [
        "##### 1. Why did you pick the specific chart?"
      ],
      "metadata": {
        "id": "Uw0GT_uHrHcb"
      }
    },
    {
      "cell_type": "markdown",
      "source": [
        "Bar charts show the frequency counts of values for the different levels of a categorical or nominal variable. Sometimes, bar charts show other statistics, such as percentages.\n",
        "\n",
        "To show the average percentage of true churn with respect to Area Code, I have used Bar Chart."
      ],
      "metadata": {
        "id": "R7c_a-IXrHcb"
      }
    },
    {
      "cell_type": "markdown",
      "source": [
        "##### 2. What is/are the insight(s) found from the chart?"
      ],
      "metadata": {
        "id": "qTEiGUKorHcc"
      }
    },
    {
      "cell_type": "markdown",
      "source": [
        "All Area Code have around 14% Churn rate. So, Area Code doesn't matter."
      ],
      "metadata": {
        "id": "a3rmtW3vrHcc"
      }
    },
    {
      "cell_type": "markdown",
      "source": [
        "##### 3. Will the gained insights help creating a positive business impact?\n",
        "Are there any insights that lead to negative growth? Justify with specific reason."
      ],
      "metadata": {
        "id": "1Qw8mtL3rHcd"
      }
    },
    {
      "cell_type": "markdown",
      "source": [
        "No, Area Code doesn't have any contribution to churn rate for 14% churn rate is same for all the area codes. But while furthur sagreggating the area codes with respective states in those area code, it can be analysed the states in which the issue is happeing. So, it has been defined above.\n",
        "\n",
        "So, here Area code won't help to create business impact but the respective states wise analysis can help."
      ],
      "metadata": {
        "id": "t7dguLynrHcd"
      }
    },
    {
      "cell_type": "markdown",
      "source": [
        "#### Chart - 5 - Installs vs Size of the application"
      ],
      "metadata": {
        "id": "xnMZvg2orIPt"
      }
    },
    {
      "cell_type": "code",
      "source": [
        "# Chart - 5 visualization code\n",
        "#Installs vs size of the application\n",
        "fig_engagement_vs_views = px.scatter(\n",
        "    final_playstore_data, x='Installs', y='Size',\n",
        "    title=\"Scatter Plot: Engagement Rate vs Total Video Views\",\n",
        "    color='Category',\n",
        "    hover_name='Type',\n",
        "    labels={'video views': 'Total Video Views', 'engagement_rate': 'Engagement Rate'}\n",
        ")\n",
        "\n",
        "# Ensure the x-axis is sorted from low to high\n",
        "fig_engagement_vs_views.update_layout(yaxis=dict(categoryorder='total ascending'))\n",
        "\n",
        "fig_engagement_vs_views.show()\n"
      ],
      "metadata": {
        "id": "BIKEKoqErIPu"
      },
      "execution_count": null,
      "outputs": []
    },
    {
      "cell_type": "code",
      "source": [
        "# Assigning values for furthur charts\n",
        "i1 = dataset['International plan'].unique()\n",
        "i2 = dataset.groupby('International plan')['Churn'].mean()*100\n",
        "i3 = dataset.groupby(['International plan'])['Total intl charge'].mean()\n",
        "i4 = dataset.groupby([\"Churn\"])['Total intl minutes'].mean()"
      ],
      "metadata": {
        "id": "d7qDp535KTt2"
      },
      "execution_count": null,
      "outputs": []
    },
    {
      "cell_type": "code",
      "source": [
        "# Visualizing code for people churning percentage having international plan\n",
        "plt.rcParams['figure.figsize'] = (6, 7)\n",
        "\n",
        "plt.bar(i1,i2 , color=['b','r'])\n",
        "\n",
        "plt.title(\" Percentage of people leaving\", fontsize = 20)\n",
        "plt.xlabel('International plan', fontsize = 15)\n",
        "plt.ylabel('percentage', fontsize = 15)\n",
        "plt.show()"
      ],
      "metadata": {
        "id": "oW9Yv1-HKq7N"
      },
      "execution_count": null,
      "outputs": []
    },
    {
      "cell_type": "code",
      "source": [
        "# Visualizing code for average calling charge of customers having international plan\n",
        "plt.rcParams['figure.figsize'] = (6, 7)\n",
        "\n",
        "plt.bar(i1,i3, color=['b','r'])\n",
        "plt.title(\" Average charge of people\", fontsize = 20)\n",
        "plt.xlabel('International plan', fontsize = 15)\n",
        "plt.ylabel(' charge', fontsize = 15)\n",
        "plt.show()"
      ],
      "metadata": {
        "id": "mqNUqJmZK5Wz"
      },
      "execution_count": null,
      "outputs": []
    },
    {
      "cell_type": "code",
      "source": [
        "# Visualizing code for average minutes takled by customers having international plan\n",
        "plt.rcParams['figure.figsize'] = (6, 7)\n",
        "\n",
        "plt.bar(i1,i4, color=['b','r'])\n",
        "plt.title(\" Average minute people talk\", fontsize = 20)\n",
        "plt.xlabel('International plan', fontsize = 15)\n",
        "plt.ylabel(' Minutes', fontsize = 15)\n",
        "plt.show()"
      ],
      "metadata": {
        "id": "3Fwfpl4aLI89"
      },
      "execution_count": null,
      "outputs": []
    },
    {
      "cell_type": "markdown",
      "source": [
        "##### 1. Why did you pick the specific chart?"
      ],
      "metadata": {
        "id": "mwHQVoIQrIPu"
      }
    },
    {
      "cell_type": "markdown",
      "source": [
        "Pie charts are used to represent the proportional data or relative data in a single chart. The concept of pie slices is used to show the percentage of a particular data from the whole pie.\n",
        "\n",
        "Thus, I used to show the percentage of people taken international plan through pie chart with differentr colored area under a circle.\n",
        "\n",
        "A bar chart is used when you want to show a distribution of data points or perform a comparison of metric values across different subgroups of your data. From a bar chart, we can see which groups are highest or most common, and how other groups compare against the others.\n",
        "\n",
        "Thus, I used bar chart to show the percentage of customers churned having international plan and the avergae calling charge as well as conversation average minutes of customers those have international plan."
      ],
      "metadata": {
        "id": "_OS83_DorIPu"
      }
    },
    {
      "cell_type": "markdown",
      "source": [
        "##### 2. What is/are the insight(s) found from the chart?"
      ],
      "metadata": {
        "id": "Kwy5hImkrIPu"
      }
    },
    {
      "cell_type": "markdown",
      "source": [
        "**INTERNATIONAL PLAN**\n",
        "\n",
        "3010 dont have a international plan\n",
        "\n",
        "323 have a international plan\n",
        "\n",
        "Among those who  have a international plan 42.4 % people churn.\n",
        "\n",
        "Whereas among those who dont have a international plan  only 11.4 % people churn.\n",
        "\n",
        "Among those who  have a international plan their average charge is 2.86 and they talk for 10.7 minutes average .\n",
        "\n",
        "Whereas among those who dont have a international plan their average charge is 2.75 and they talk for 10.15 minutes average .\n",
        "\n",
        "The reason why people having international plan might be leaving is that they are [paying same amount of money for international calls as for those customers who dont have a international plan.Hence they arent getting any benefits for having an international plan so they might be unhappy.\n",
        "\n",
        "\n",
        "***Customers with the International Plan tend to churn more frequently ***\n"
      ],
      "metadata": {
        "id": "v29pTB30rIPu"
      }
    },
    {
      "cell_type": "markdown",
      "source": [
        "##### 3. Will the gained insights help creating a positive business impact?\n",
        "Are there any insights that lead to negative growth? Justify with specific reason."
      ],
      "metadata": {
        "id": "0sjxqkK0rIPv"
      }
    },
    {
      "cell_type": "markdown",
      "source": [
        "Yes, the insights found will definitely help for a positive business impact. Thsoe people who  have international plan they are paying some additional charges to get the plan but the talk time value charge is same as those customers having no international plan. That's might be great reason for more churns those having international plan."
      ],
      "metadata": {
        "id": "q3Py5eq2rIPv"
      }
    },
    {
      "cell_type": "markdown",
      "source": [
        "#### Chart - 6 - Voice Mail (Univariate + Bivariate)"
      ],
      "metadata": {
        "id": "y7avNpR9HL5z"
      }
    },
    {
      "cell_type": "code",
      "source": [
        "# Chart - 5 visualization code\n",
        "# vizualizing code for customers percentage having voice mail plan\n",
        "dataset['Voice mail plan'].value_counts().plot(kind='pie',\n",
        "                              figsize=(15,6),\n",
        "                               autopct=\"%1.1f%%\",\n",
        "                               startangle=90,\n",
        "                               shadow=True,\n",
        "                               labels=['No','Yes'],\n",
        "                               colors=['skyblue','red'],\n",
        "                               explode=[0,0]\n",
        "                              )"
      ],
      "metadata": {
        "id": "XupyxJMCHL50"
      },
      "execution_count": null,
      "outputs": []
    },
    {
      "cell_type": "code",
      "source": [
        "# Vizualizing code for customers churning while having voice mail plan\n",
        "plt.rcParams['figure.figsize'] = (6, 7)\n",
        "\n",
        "cc1=list(['no','yes'])\n",
        "cc2=dataset.groupby('Voice mail plan')['Churn'].mean()*100\n",
        "plt.bar(cc1,cc2, color=['b','r'])\n",
        "\n",
        "plt.title(\" Percentage of people leaving\", fontsize = 20)\n",
        "plt.xlabel('Voice mail plan', fontsize = 15)\n",
        "plt.ylabel('percentage', fontsize = 15)\n",
        "plt.show()"
      ],
      "metadata": {
        "id": "QBRu1D9eP37x"
      },
      "execution_count": null,
      "outputs": []
    },
    {
      "cell_type": "markdown",
      "source": [
        "##### 1. Why did you pick the specific chart?"
      ],
      "metadata": {
        "id": "Z5yPuW4iHL50"
      }
    },
    {
      "cell_type": "markdown",
      "source": [
        "Pie chart is a type of graph in which a circle is divided into sectors that each represents a proportion of the whole. Pie charts are a useful way to organize data in order to see the size of components relative to the whole, and are particularly good at showing percentage or proportional data.\n",
        "\n",
        "Thus, I have used pie chart to show the percentage of customers having voice mail plan.\n",
        "\n",
        "The bar graph is used to compare the items between different groups over time. Bar graphs are used to measure the changes over a period of time.\n",
        "\n",
        "Thus, I have used bar chart to show the percentage of customers churned having voice mail plan."
      ],
      "metadata": {
        "id": "e2Vj3xyvHL50"
      }
    },
    {
      "cell_type": "markdown",
      "source": [
        "##### 2. What is/are the insight(s) found from the chart?"
      ],
      "metadata": {
        "id": "3vIdo55JHL50"
      }
    },
    {
      "cell_type": "markdown",
      "source": [
        "**VOICE MAIL**\n",
        "\n",
        "2411 dont have a voice mail plan\n",
        "\n",
        "922 have a voice mail plan\n",
        "\n",
        "Among those who dont have a voice mail 16.7 % people churn.\n",
        "\n",
        "Whereas among those who have a voice mail plan only 8.7 % people churn.\n",
        "\n",
        "**Hypothesis Based on Voice Mail**\n",
        "* Customers sending less number of voicemails either as per their Requirement or There would be less Network Stability at that place for which they won't be able to send the voice message successfully.\n",
        "\n",
        "***Customers  with the Voice Mail Plan tend to churn less frequently ***"
      ],
      "metadata": {
        "id": "_TwmLyT0HL51"
      }
    },
    {
      "cell_type": "markdown",
      "source": [
        "##### 3. Will the gained insights help creating a positive business impact?\n",
        "Are there any insights that lead to negative growth? Justify with specific reason."
      ],
      "metadata": {
        "id": "IlhlbgNBHL51"
      }
    },
    {
      "cell_type": "markdown",
      "source": [
        "Voice mail plan doesn't have that much impact in business untill the hypothesis has been proven. If the hypothesis remains true, we need to take care of the respective states where there is less network stability or the states the towers needs either maintainance or new towers should be installed.\n",
        "\n",
        "yes, voice mail plan might be considered partially."
      ],
      "metadata": {
        "id": "zecN6W5IHL51"
      }
    },
    {
      "cell_type": "markdown",
      "source": [
        "#### Chart - 7- Overall Calls (Bivariate)"
      ],
      "metadata": {
        "id": "oQ-pHCWMHO92"
      }
    },
    {
      "cell_type": "code",
      "source": [
        "# Chart - 7 visualization code\n",
        "# Geeting means of churn vs total day calls, total day minutes, total day charge\n",
        "print(dataset.groupby([\"Churn\"])['Total day calls'].mean())\n",
        "print(\" \")\n",
        "print(dataset.groupby([\"Churn\"])['Total day minutes'].mean())\n",
        "print(\" \")\n",
        "print(dataset.groupby([\"Churn\"])['Total day charge'].mean())\n",
        "\n",
        "# 18% more min    18% more charge    no insight"
      ],
      "metadata": {
        "id": "Eb_s6DRSHO92"
      },
      "execution_count": null,
      "outputs": []
    },
    {
      "cell_type": "code",
      "source": [
        "# Vizualizing Total day minutes vs total day charge\n",
        "cdd = sns.scatterplot(x=\"Total day minutes\", y=\"Total day charge\", hue=\"Churn\", data=dataset)\n"
      ],
      "metadata": {
        "id": "t0PdOrzhWIQ0"
      },
      "execution_count": null,
      "outputs": []
    },
    {
      "cell_type": "code",
      "source": [
        "# Geeting means of churn vs total eve calls, total eve minutes, total evening charge\n",
        "print(dataset.groupby([\"Churn\"])['Total eve calls'].mean())\n",
        "print(\" \")\n",
        "print(dataset.groupby([\"Churn\"])['Total eve minutes'].mean())\n",
        "print(\" \")\n",
        "print(dataset.groupby([\"Churn\"])['Total eve charge'].mean())"
      ],
      "metadata": {
        "id": "Tm1L8efQW8io"
      },
      "execution_count": null,
      "outputs": []
    },
    {
      "cell_type": "code",
      "source": [
        "# Vizualizing total evening minutes vs total evening charge\n",
        "cdd = sns.scatterplot(x=\"Total eve minutes\", y=\"Total eve charge\", hue=\"Churn\", data=dataset)"
      ],
      "metadata": {
        "id": "IULag4EwXLhy"
      },
      "execution_count": null,
      "outputs": []
    },
    {
      "cell_type": "code",
      "source": [
        "# Getting means of churn vs total night calls, total m=night minutes, total night charge\n",
        "print(dataset.groupby([\"Churn\"])['Total night calls'].mean())\n",
        "print(\" \")\n",
        "print(dataset.groupby([\"Churn\"])['Total night minutes'].mean())\n",
        "print(\" \")\n",
        "print(dataset.groupby([\"Churn\"])['Total night charge'].mean())"
      ],
      "metadata": {
        "id": "eKadu2ppYZ10"
      },
      "execution_count": null,
      "outputs": []
    },
    {
      "cell_type": "code",
      "source": [
        "# Vizualizing Total nights minutes vs total night charge\n",
        "cdd = sns.scatterplot(x=\"Total night minutes\", y=\"Total night charge\", hue=\"Churn\", data=dataset)"
      ],
      "metadata": {
        "id": "9GDJxQSqZGez"
      },
      "execution_count": null,
      "outputs": []
    },
    {
      "cell_type": "code",
      "source": [
        "# Import pandas library\n",
        "import pandas as pd\n",
        "\n",
        "# initialize list of lists\n",
        "data1 = [['Total day minutes',175.17 , 206.91], ['Total day charge',29.78, 35.17]]\n",
        "\n",
        "#7.012,6.12,6.86\n",
        "\n",
        "# Create the pandas DataFrame\n",
        "minutes_code1 = pd.DataFrame(data1, columns = ['day', 'dont churn',' churn'])\n",
        "\n",
        "# print dataframe.\n",
        "minutes_code1"
      ],
      "metadata": {
        "id": "OQ6Qw_uvZn7o"
      },
      "execution_count": null,
      "outputs": []
    },
    {
      "cell_type": "code",
      "source": [
        "# Vizualizing code for the above created dataframe\n",
        "plt.rcParams['figure.figsize'] = (8, 6)\n",
        "\n",
        "\n",
        "minutes_code1.plot(kind='bar', x='day',ylabel='mean  ')"
      ],
      "metadata": {
        "id": "V13A3eLlanO8"
      },
      "execution_count": null,
      "outputs": []
    },
    {
      "cell_type": "code",
      "source": [
        "# Import pandas library\n",
        "import pandas as pd\n",
        "\n",
        "# initialize list of lists\n",
        "data2 = [ ['Total eve minutes',199.04, 212.41], ['Total night minutes',200.13,205.23]]\n",
        "\n",
        "#7.012,6.12,6.86\n",
        "\n",
        "# Create the pandas DataFrame\n",
        "minutes_code2 = pd.DataFrame(data2, columns = ['minutes', 'dont churn',' churn'])\n",
        "\n",
        "# print dataframe.\n",
        "minutes_code2"
      ],
      "metadata": {
        "id": "0s1VWK8SbCb4"
      },
      "execution_count": null,
      "outputs": []
    },
    {
      "cell_type": "code",
      "source": [
        "# Vizualizing teh above created dataframe\n",
        "plt.rcParams['figure.figsize'] = (8,6)\n",
        "\n",
        "\n",
        "minutes_code2.plot(kind='bar', x='minutes',xlabel='minutes',ylabel='mean of churn ')"
      ],
      "metadata": {
        "id": "HUmuyd_ObEYq"
      },
      "execution_count": null,
      "outputs": []
    },
    {
      "cell_type": "code",
      "source": [
        "# Import pandas library\n",
        "import pandas as pd\n",
        "\n",
        "# initialize list of lists\n",
        "data3 = [ ['Total eve charge',16.91, 18.05], ['Total night charge',9,9.23]]\n",
        "\n",
        "#7.012,6.12,6.86\n",
        "\n",
        "# Create the pandas DataFrame\n",
        "minutes_code3 = pd.DataFrame(data3, columns = ['charge', 'dont churn',' churn'])\n",
        "\n",
        "# print dataframe.\n",
        "minutes_code3"
      ],
      "metadata": {
        "id": "p-IqLU4UbLcA"
      },
      "execution_count": null,
      "outputs": []
    },
    {
      "cell_type": "code",
      "source": [
        "# Vizualizing code for the above dataset\n",
        "plt.rcParams['figure.figsize'] = (8,6)\n",
        "\n",
        "\n",
        "minutes_code3.plot(kind='bar', x='charge',ylabel='mean charge')"
      ],
      "metadata": {
        "id": "RGjFvhbbbTcQ"
      },
      "execution_count": null,
      "outputs": []
    },
    {
      "cell_type": "markdown",
      "source": [
        "##### 1. Why did you pick the specific chart?"
      ],
      "metadata": {
        "id": "DEMFeE18HO92"
      }
    },
    {
      "cell_type": "markdown",
      "source": [
        "A scatter plot (aka scatter chart, scatter graph) uses dots to represent values for two different numeric variables. The position of each dot on the horizontal and vertical axis indicates values for an individual data point. Scatter plots are used to observe relationships between variables.\n",
        "\n",
        "Thus, I have used the scatter plot to depict the relationship between evening, day &n night calls , minutes and charge.\n",
        "\n",
        "The bar graph is used to compare the items between different groups over time. Bar graphs are used to measure the changes over a period of time. When the changes are larger, a bar graph is the best option to represent the data.\n",
        "\n",
        "Thus, I have used the bar plot to show the evening, night and day manipulated data to depict meaningful insights."
      ],
      "metadata": {
        "id": "zyFFR4BgHO92"
      }
    },
    {
      "cell_type": "markdown",
      "source": [
        "##### 2. What is/are the insight(s) found from the chart?"
      ],
      "metadata": {
        "id": "MR3eS7xTHO93"
      }
    },
    {
      "cell_type": "markdown",
      "source": [
        "**OVERALL CALLS**\n",
        "\n",
        "Churn customers speak more minutes that non-churn customers at day,evening and night. Hence they pay more charge that non-churn customers.\n",
        "\n",
        "We can retain churn customers if we include master plan.\n",
        "In master plan if a customer is talking more minutes then we can charge a little less amount from him or he can get discount or additional few free minutes to talk.\n",
        "\n",
        "This will make customers who are going to churn happy and they will not leave the company."
      ],
      "metadata": {
        "id": "0neckRpZHO93"
      }
    },
    {
      "cell_type": "markdown",
      "source": [
        "##### 3. Will the gained insights help creating a positive business impact?\n",
        "Are there any insights that lead to negative growth? Justify with specific reason."
      ],
      "metadata": {
        "id": "JmI1Y4YbHO93"
      }
    },
    {
      "cell_type": "markdown",
      "source": [
        "For telecom service provider calling and messaging are two essential product plans. Thus, optimizing voice call plans will definitely create a business impact. Those who are using just calling service must be provided som additional offers either in talktime or powerplus plan. Those who use voice call plan for night only, we might offer some exciting plans from midnight 12 to morning 6. For customers those who have higher accout length should be provided exciting offers as they are our loyal customers. churing of higher account length customer will have a negative impact on business.\n"
      ],
      "metadata": {
        "id": "OgeOEDgIHO93"
      }
    },
    {
      "cell_type": "markdown",
      "source": [
        "#### Chart - 8 - Customer Service Calls (Bivariate)"
      ],
      "metadata": {
        "id": "XGShqbS2HSAY"
      }
    },
    {
      "cell_type": "code",
      "source": [
        "# Chart - 8 visualization code\n",
        "# Visualizing churn rate per customer service calls\n",
        "plt.rcParams['figure.figsize'] = (12, 8)\n",
        "\n",
        "\n",
        "s1=list(dataset['Customer service calls'].unique())\n",
        "s2=list(dataset.groupby(['Customer service calls'])['Churn'].mean()*100)\n",
        "plt.bar(s1,s2, color = ['violet','indigo','b','g','y','orange','r'])\n",
        "\n",
        "\n",
        "plt.title(\" Churn rate per service call\", fontsize = 20)\n",
        "plt.xlabel('No of cust service call', fontsize = 15)\n",
        "plt.ylabel(' percentage', fontsize = 15)\n",
        "plt.show()\n"
      ],
      "metadata": {
        "id": "-6GTfuViHSAY"
      },
      "execution_count": null,
      "outputs": []
    },
    {
      "cell_type": "markdown",
      "source": [
        "##### 1. Why did you pick the specific chart?"
      ],
      "metadata": {
        "id": "B4XxyvTzHSAZ"
      }
    },
    {
      "cell_type": "markdown",
      "source": [
        "The bar graph is used to compare the items between different groups over time. Bar graphs are used to measure the changes over a period of time. When the changes are larger, a bar graph is the best option to represent the data.\n",
        "\n",
        "Thus, I have used the bar plot to show the relationship between churn rate per customer service calls."
      ],
      "metadata": {
        "id": "xBXFKddDHSAZ"
      }
    },
    {
      "cell_type": "markdown",
      "source": [
        "##### 2. What is/are the insight(s) found from the chart?"
      ],
      "metadata": {
        "id": "Mal1wQlpHSAZ"
      }
    },
    {
      "cell_type": "markdown",
      "source": [
        "**CUSTOMER SERVICE CALL**\n",
        "\n",
        "The service calls of customers varies from 0 to 9 .\n",
        "\n",
        "Those customers who make more service calls they have a high probability of leaving.\n",
        "\n",
        "As we can see from graph , customers with more then 5 service calls their probability of leaving is more then 50 %.\n",
        "\n",
        "Hence customers who make more then 5 service calls, their queries should be solved immediately and they should be given better service so that they dont leave the company.\n",
        "\n",
        "***Customers with four or more customer service calls churn more than four times as often as do the other customers***"
      ],
      "metadata": {
        "id": "pxwDuAqQHSAZ"
      }
    },
    {
      "cell_type": "markdown",
      "source": [
        "##### 3. Will the gained insights help creating a positive business impact?\n",
        "Are there any insights that lead to negative growth? Justify with specific reason."
      ],
      "metadata": {
        "id": "BgP_e3WlHSAZ"
      }
    },
    {
      "cell_type": "markdown",
      "source": [
        "Customer service is an essential factor for every business. SO definitely good customer service will have a positive impact to the business. We have to look afted the customer calls and customer query report resolution duration. Need to optimize the time period. If one type of issue is coming from more than 5 customers, root cause analysis should be done on that same issue and should be resolved for everyone.\n",
        "Need to reduce the calls for each customer and he should be satisfied in a single call only. The customer service agents should be given great offer or recognition over great performance of customer issue resolution."
      ],
      "metadata": {
        "id": "15jESfbyHSAZ"
      }
    },
    {
      "cell_type": "markdown",
      "source": [
        "#### Chart - 9 - Column wise Histogram & Box Plot Univariate Analysis"
      ],
      "metadata": {
        "id": "I3aNiIh9fKqZ"
      }
    },
    {
      "cell_type": "code",
      "source": [
        "# Chart - 9 visualization code\n",
        "# Visualizing code of hist plot for each columns to know the data distibution\n",
        "for col in dataset.describe().columns:\n",
        "  fig=plt.figure(figsize=(9,6))\n",
        "  ax=fig.gca()\n",
        "  feature= (dataset[col])\n",
        "  sns.distplot(dataset[col])\n",
        "  ax.axvline(feature.mean(),color='magenta', linestyle='dashed', linewidth=2)\n",
        "  ax.axvline(feature.median(),color='cyan', linestyle='dashed', linewidth=2)\n",
        "  ax.set_title(col)\n",
        "plt.show()\n",
        "\n",
        "# Visualizing code of box plot for each columns to know the data distibution\n",
        "for col in dataset.describe().columns:\n",
        "    fig = plt.figure(figsize=(9, 6))\n",
        "    ax = fig.gca()\n",
        "    dataset.boxplot( col, ax = ax)\n",
        "    ax.set_title('Label by ' + col)\n",
        "    #ax.set_ylabel(\"Churn\")\n",
        "plt.show()\n"
      ],
      "metadata": {
        "id": "WPVINT_UfKqa"
      },
      "execution_count": null,
      "outputs": []
    },
    {
      "cell_type": "markdown",
      "source": [
        "##### 1. Why did you pick the specific chart?"
      ],
      "metadata": {
        "id": "hTF1e9PwfKqa"
      }
    },
    {
      "cell_type": "markdown",
      "source": [
        "The histogram is a popular graphing tool. It is used to summarize discrete or continuous data that are measured on an interval scale. It is often used to illustrate the major features of the distribution of the data in a convenient form. It is also useful when dealing with large data sets (greater than 100 observations). It can help detect any unusual observations (outliers) or any gaps in the data.\n",
        "\n",
        "Thus, I used the histogram plot to analysis the variable distributions over the whole dataset whether it's symmetric or not.\n",
        "\n",
        "Box plots are used to show distributions of numeric data values, especially when you want to compare them between multiple groups. They are built to provide high-level information at a glance, offering general information about a group of data's symmetry, skew, variance, and outliers.\n",
        "\n",
        "Thus, for each numerical varibale in the given dataset, I used box plot to analyse the outliers and interquartile range including mean, median, maximum and minimum value."
      ],
      "metadata": {
        "id": "XOYaZpKpfKqa"
      }
    },
    {
      "cell_type": "markdown",
      "source": [
        "##### 2. What is/are the insight(s) found from the chart?"
      ],
      "metadata": {
        "id": "1xrBLU6IfKqa"
      }
    },
    {
      "cell_type": "markdown",
      "source": [
        "Almost all columns are symmetric distributed and mean is nearly same with median for numerical columns. Here Area code will be treated as text values as there are only 3 values in the particular column."
      ],
      "metadata": {
        "id": "rrwjuBlHfKqb"
      }
    },
    {
      "cell_type": "markdown",
      "source": [
        "##### 3. Will the gained insights help creating a positive business impact?\n",
        "Are there any insights that lead to negative growth? Justify with specific reason."
      ],
      "metadata": {
        "id": "yiLHMWFSfKqb"
      }
    },
    {
      "cell_type": "markdown",
      "source": [
        "Just a histogram and box plot cannot define business impact. It's done just to see the distribution of the column data over the dataset."
      ],
      "metadata": {
        "id": "7cTtRDwufKqb"
      }
    },
    {
      "cell_type": "markdown",
      "source": [
        "#### Chart - 10 - Correlation Heatmap"
      ],
      "metadata": {
        "id": "NC_X3p0fY2L0"
      }
    },
    {
      "cell_type": "code",
      "source": [
        "# Correlation Heatmap visualization code\n",
        "corr = dataset.corr()\n",
        "cmap = cmap=sns.diverging_palette(5, 250, as_cmap=True)\n",
        "\n",
        "def magnify():\n",
        "    return [dict(selector=\"th\",\n",
        "                 props=[(\"font-size\", \"7pt\")]),\n",
        "            dict(selector=\"td\",\n",
        "                 props=[('padding', \"0em 0em\")]),\n",
        "            dict(selector=\"th:hover\",\n",
        "                 props=[(\"font-size\", \"12pt\")]),\n",
        "            dict(selector=\"tr:hover td:hover\",\n",
        "                 props=[('max-width', '200px'),\n",
        "                        ('font-size', '12pt')])\n",
        "]\n",
        "\n",
        "corr.style.background_gradient(cmap, axis=1)\\\n",
        "    .set_properties(**{'max-width': '80px', 'font-size': '10pt'})\\\n",
        "    .set_caption(\"Hover to magify\")\\\n",
        "    .set_precision(2)\\\n",
        "    .set_table_styles(magnify())"
      ],
      "metadata": {
        "id": "xyC9zolEZNRQ"
      },
      "execution_count": null,
      "outputs": []
    },
    {
      "cell_type": "markdown",
      "source": [
        "##### 1. Why did you pick the specific chart?"
      ],
      "metadata": {
        "id": "UV0SzAkaZNRQ"
      }
    },
    {
      "cell_type": "markdown",
      "source": [
        "A correlation matrix is a table showing correlation coefficients between variables. Each cell in the table shows the correlation between two variables. A correlation matrix is used to summarize data, as an input into a more advanced analysis, and as a diagnostic for advanced analyses. The range of correlation is [-1,1].\n",
        "\n",
        "Thus to know the correlation between all the variables along with the correlation coeficients, i used correlation heatmap."
      ],
      "metadata": {
        "id": "DVPuT8LYZNRQ"
      }
    },
    {
      "cell_type": "markdown",
      "source": [
        "##### 2. What is/are the insight(s) found from the chart?"
      ],
      "metadata": {
        "id": "YPEH6qLeZNRQ"
      }
    },
    {
      "cell_type": "markdown",
      "source": [
        "From the above correlation heatmap, we can see total day charge & total day minute, total evening charge & total evening minute, total night charge & total night minute are positiveliy highly correlated with a value of 1.\n",
        "\n",
        "Customer service call is positively correlated only with area code and negative correlated with rest variables.\n",
        "\n",
        "Rest all correlation can be depicted from the above chart.\n"
      ],
      "metadata": {
        "id": "bfSqtnDqZNRR"
      }
    },
    {
      "cell_type": "markdown",
      "source": [
        "#### Chart - 11 - Pair Plot"
      ],
      "metadata": {
        "id": "q29F0dvdveiT"
      }
    },
    {
      "cell_type": "code",
      "source": [
        "# Pair Plot visualization code\n",
        "sns.pairplot(dataset, hue=\"Churn\")"
      ],
      "metadata": {
        "id": "o58-TEIhveiU"
      },
      "execution_count": null,
      "outputs": []
    },
    {
      "cell_type": "markdown",
      "source": [
        "##### 1. Why did you pick the specific chart?"
      ],
      "metadata": {
        "id": "EXh0U9oCveiU"
      }
    },
    {
      "cell_type": "markdown",
      "source": [
        "Pair plot is used to understand the best set of features to explain a relationship between two variables or to form the most separated clusters. It also helps to form some simple classification models by drawing some simple lines or make linear separation in our data-set.\n",
        "\n",
        "Thus, I used pair plot to analyse the patterns of data and realationship between the features. It's exactly same as the correlation map but here you will get the graphical representation."
      ],
      "metadata": {
        "id": "eMmPjTByveiU"
      }
    },
    {
      "cell_type": "markdown",
      "source": [
        "##### 2. What is/are the insight(s) found from the chart?"
      ],
      "metadata": {
        "id": "22aHeOlLveiV"
      }
    },
    {
      "cell_type": "markdown",
      "source": [
        "From the above chart I got to know, there are less linear relationship between variables and data poiunts aren't linearly separable. Churned customers data is clusetered and ovearlapped each other. Non churn data are quite symmetrical in nature and churned customer data are quite non symmetric in nature. In this whole pair plot, the importance of area code can be seen and the number of churn with respect to different features are really insightful. Rest insights can be depicted from the above graph."
      ],
      "metadata": {
        "id": "uPQ8RGwHveiV"
      }
    },
    {
      "cell_type": "markdown",
      "source": [
        "## **5. Solution to Business Objective**"
      ],
      "metadata": {
        "id": "JcMwzZxoAimU"
      }
    },
    {
      "cell_type": "markdown",
      "source": [
        "#### What do you suggest the client to achieve Business Objective ?\n",
        "Explain Briefly."
      ],
      "metadata": {
        "id": "8G2x9gOozGDZ"
      }
    },
    {
      "cell_type": "markdown",
      "source": [
        "**Solution to Reduce Customer Churn**\n",
        "\n",
        "*\tModify International Plan as the charge is same as normal one.\n",
        "*\tBe proactive with communication.\n",
        "*\tAsk for feedback often.\n",
        "*\tPeriodically throw Offers to retain customers.\n",
        "*\tLook at the customers facing problem in  the most churning states.\n",
        "*\tLean into  best customers.\n",
        "*\tRegular Server Maintenance.\n",
        "*\tSolving Poor Network Connectivity Issue.\n",
        "*\tDefine a roadmap for new customers.\n",
        "*\tAnalyze churn when it happens.\n",
        "*\tStay competitive.\n",
        "\n",
        "\n"
      ],
      "metadata": {
        "id": "pASKb0qOza21"
      }
    },
    {
      "cell_type": "markdown",
      "source": [
        "# **Conclusion**"
      ],
      "metadata": {
        "id": "gCX9965dhzqZ"
      }
    },
    {
      "cell_type": "markdown",
      "source": [
        "•\tThe four charge fields are linear functions of the minute fields.\n",
        "\n",
        "•\tThe area code field and/or the state field are anomalous, and can be omitted.\n",
        "\n",
        "•\tCustomers with the International Plan tend to churn more frequently.\n",
        "\n",
        "•\tCustomers with four or more customer service calls churn more than four times as often as do the other customers.\n",
        "\n",
        "•\tCustomers with high day minutes and evening minutes tend to churn at a higher rate than do the other customers.\n",
        "\n",
        "•\tThere is no obvious association of churn with the variables day calls, evening calls, night calls, international calls, night minutes, international minutes, account length, or voice mail messages.\n",
        "\n"
      ],
      "metadata": {
        "id": "Fjb1IsQkh3yE"
      }
    },
    {
      "cell_type": "markdown",
      "source": [
        "### ***Hurrah! You have successfully completed your EDA Capstone Project !!!***"
      ],
      "metadata": {
        "id": "gIfDvo9L0UH2"
      }
    }
  ]
}